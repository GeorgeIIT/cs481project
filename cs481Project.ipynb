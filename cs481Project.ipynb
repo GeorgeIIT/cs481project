{
 "cells": [
  {
   "cell_type": "markdown",
   "metadata": {
    "id": "hlZulOCT9WfU"
   },
   "source": [
    "**CS 481 Final Project**\n",
    "\n",
    "The goal of this project is to classify tweets from members of U.S. congress by their political party. "
   ]
  },
  {
   "cell_type": "markdown",
   "metadata": {
    "id": "TKyNEhRprZfW"
   },
   "source": [
    "The file ['party_tweets.csv'](https://github.com/GeorgeIIT/cs481project/blob/main/party_tweets.csv) contains tweets and retweets from members of the US Congress. Each tweet is labeled with the congress member's party affiliation. The partys are Democrats and Republicans, Members of a third party were not included. Tweets were collected by pulling the last 40 tweets (retweets included) from each congress member's user timeline on 4/1/21. The goal for this repository is to predict the political party of a legislator based on the content they share online. It should be noted that these are official twitter accounts so the vast majority of the content posted is relevant to the user's political career. Models trained with this dataset may not be effective for predicting the party affiliation of non-political content, or political content from perspectives outside of the United States.\n",
    "\n",
    "  * Total tweets: 21181\n",
    "  * Democrat Tweets (D): 10956\n",
    "  * Republican Tweets (R): 10225\n",
    "  * Ratio: 52:48 D:R\n",
    "\n",
    "The code used for collecting the twitter data is in ['Get_congress_tw_data.py'](https://github.com/GeorgeIIT/cs481project/blob/main/Get_congress_tw_data.py). If you wish to run it, you will need to provide your own twitter authentication tokens. Also be warned that it takes several hours to run because of the rate limit for twitter API calls.\n",
    "\n",
    "Congress member twitter handles were found on [Triage Cancer's](https://triagecancer.org/congressional-social-media) website."
   ]
  },
  {
   "cell_type": "markdown",
   "metadata": {
    "id": "JuQuqx_1O5hb"
   },
   "source": [
    "**Libraries Used**"
   ]
  },
  {
   "cell_type": "code",
   "execution_count": 84,
   "metadata": {
    "id": "wwzYMsMdsLUJ"
   },
   "outputs": [],
   "source": [
    "#Data Representation\n",
    "import numpy as np\n",
    "import pandas as pd\n",
    "import string\n",
    "\n",
    "#Preprocessing Text\n",
    "from tqdm import tqdm\n",
    "import re\n",
    "from bs4 import BeautifulSoup\n",
    "\n",
    "#Vector Representaion\n",
    "from sklearn.feature_extraction.text import CountVectorizer\n",
    "\n",
    "#Train/Test Split\n",
    "from sklearn.model_selection import train_test_split\n",
    "\n",
    "#Logistic Regression Algorithm\n",
    "from sklearn.linear_model import LogisticRegression\n",
    "\n",
    "#Performance Evaluation\n",
    "from sklearn.metrics import classification_report,confusion_matrix\n",
    "from sklearn.model_selection import cross_val_score\n",
    "from sklearn.metrics import roc_curve, auc\n",
    "\n",
    "#Parameter Tuning\n",
    "from sklearn.model_selection import GridSearchCV\n",
    "from sklearn.pipeline import Pipeline\n",
    "\n",
    "#Plotting (used to explore the data and evaluate model performance)\n",
    "import matplotlib.pyplot as plt"
   ]
  },
  {
   "cell_type": "markdown",
   "metadata": {
    "id": "bmfoKpiHsuYT"
   },
   "source": [
    "**Load the Data - For use in google colab**\n"
   ]
  },
  {
   "cell_type": "code",
   "execution_count": null,
   "metadata": {
    "colab": {
     "base_uri": "https://localhost:8080/",
     "height": 73,
     "resources": {
      "http://localhost:8080/nbextensions/google.colab/files.js": {
       "data": "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",
       "headers": [
        [
         "content-type",
         "application/javascript"
        ]
       ],
       "ok": true,
       "status": 200,
       "status_text": ""
      }
     }
    },
    "id": "eK0FTLIQFxpX",
    "outputId": "a4a03571-7bfa-4d1f-bbef-829cfc986cf7"
   },
   "outputs": [],
   "source": [
    "#Retreiving dataset From File Explorer (for running on google collab)\n",
    "from google.colab import files\n",
    "import io\n",
    "\n",
    "#import the dataset\n",
    "uploaded = files.upload()"
   ]
  },
  {
   "cell_type": "code",
   "execution_count": null,
   "metadata": {
    "colab": {
     "base_uri": "https://localhost:8080/",
     "height": 246
    },
    "id": "holot-H-rQ_M",
    "outputId": "a0d51cba-5cf8-42bf-ede1-9bdb0903ea22"
   },
   "outputs": [],
   "source": [
    "#read in the data as a pandas dataframe, pipes (|) were used as delimiters. \n",
    "data = pd.read_csv(io.BytesIO(uploaded['party_tweets.csv']),sep='|',engine='python',encoding='utf-8',quoting=3)\n",
    "#make sure pandas does not truncate display\n",
    "pd.set_option('display.max_colwidth', None)\n",
    "data.shape, display(data.head())"
   ]
  },
  {
   "cell_type": "markdown",
   "metadata": {},
   "source": [
    "**Load the Data - For use in jupyter notebooks**"
   ]
  },
  {
   "cell_type": "code",
   "execution_count": 99,
   "metadata": {},
   "outputs": [],
   "source": [
    "data = pd.read_csv('party_tweets.csv',sep='|',engine='python',encoding='utf-8',quoting=3)"
   ]
  },
  {
   "cell_type": "markdown",
   "metadata": {
    "id": "bOPXAHkouBB6"
   },
   "source": [
    "**Exploring the Data**"
   ]
  },
  {
   "cell_type": "code",
   "execution_count": 100,
   "metadata": {
    "colab": {
     "base_uri": "https://localhost:8080/",
     "height": 726
    },
    "id": "Rff5A1C_uJ5f",
    "outputId": "45a1410d-2367-4e57-b731-b8ca65da1b9c"
   },
   "outputs": [
    {
     "name": "stdout",
     "output_type": "stream",
     "text": [
      "empty cells:\n",
      "idx      0\n",
      "tweet    0\n",
      "party    0\n",
      "dtype: int64\n",
      "\n",
      "Shape before dropping duplicates:\n",
      "(21181, 3)\n",
      "Shape after dropping duplicates:\n",
      "(21171, 3)\n",
      "\n",
      "Distribution of classes:\n",
      "D    10956\n",
      "R    10215\n",
      "Name: party, dtype: int64\n",
      "\n",
      "Tweet charechter length info:\n",
      "count    21171.000000\n",
      "mean       199.856407\n",
      "std         74.196388\n",
      "min          3.000000\n",
      "25%        148.000000\n",
      "50%        220.000000\n",
      "75%        262.000000\n",
      "max        735.000000\n",
      "Name: length, dtype: float64\n"
     ]
    },
    {
     "data": {
      "image/png": "[encoded data removed]",
      "text/plain": [
       "<Figure size 864x288 with 2 Axes>"
      ]
     },
     "metadata": {
      "needs_background": "light"
     },
     "output_type": "display_data"
    }
   ],
   "source": [
    "#check empty cells (should be 0 for this dataset)\n",
    "print(\"empty cells:\\n{}\".format(data.isnull().sum()))\n",
    "\n",
    "#drop duplicate entries, this data set happens to have 10\n",
    "print(\"\\nShape before dropping duplicates:\\n{}\".format(data.shape))\n",
    "data = data.drop_duplicates(keep=\"first\")\n",
    "print(\"Shape after dropping duplicates:\\n{}\".format(data.shape))\n",
    "\n",
    "#dropping the index given in the .csv file so it is not confused wit hthe pandas index \n",
    "data = data.drop(['idx'],axis=1)\n",
    "\n",
    "#data is sorted by legislator in 40 tweet chunks, we need to shuffle them and reset the index\n",
    "data = data.sample(frac=1, random_state=13).reset_index(drop=True)\n",
    "\n",
    "#check the balance of the data\n",
    "print(\"\\nDistribution of classes:\\n{}\".format(data.party.value_counts()))\n",
    "\n",
    "#take a look at the length of the tweets, this also adds a new column to the dataset\n",
    "data['length'] = data['tweet'].apply(len)\n",
    "print(\"\\nTweet charechter length info:\\n{}\".format(data['length'].describe()))\n",
    "\n",
    "#get a visualization of the length distribution by party\n",
    "data.hist(column='length',by='party',bins=30,figsize=(12,4),rwidth=0.9)\n",
    "plt.show()\n"
   ]
  },
  {
   "cell_type": "markdown",
   "metadata": {
    "id": "IDT1p1royYTS"
   },
   "source": [
    "You can see above that most tweets max out at 280 charecters, Twitter's current charecter limit. There are a few outliers that changed the scale of the two graphs though. These posts were able to excceed the limit becuase they're actually one or more retweets combined together. "
   ]
  },
  {
   "cell_type": "markdown",
   "metadata": {
    "id": "Awjt7wUv0wZT"
   },
   "source": [
    "**Preprocessing the Data**"
   ]
  },
  {
   "cell_type": "markdown",
   "metadata": {
    "id": "jA4OnglWzBOw"
   },
   "source": [
    "These three functions are going to be used to clean up the data. Mainly expanding contractions and removing special charecters. But the last one converts the party label from D and R to 0 and 1 respectively. "
   ]
  },
  {
   "cell_type": "code",
   "execution_count": 101,
   "metadata": {
    "id": "AERp5F4QzZa8"
   },
   "outputs": [],
   "source": [
    "def decontracted(phrase):\n",
    "    \"\"\"\n",
    "    We first define a function to expand the contracted phrase into normal words\n",
    "    \"\"\"\n",
    "    # specific\n",
    "    phrase = re.sub(r\"won't\", \"will not\", phrase)\n",
    "    phrase = re.sub(r\"can\\'t\", \"can not\", phrase)\n",
    "\n",
    "    # general\n",
    "    phrase = re.sub(r\"n\\'t\", \" not\", phrase)\n",
    "    phrase = re.sub(r\"\\'re\", \" are\", phrase)\n",
    "    phrase = re.sub(r\"\\'s\", \" is\", phrase) # prime \n",
    "    phrase = re.sub(r\"\\'d\", \" would\", phrase)\n",
    "    phrase = re.sub(r\"\\'ll\", \" will\", phrase)\n",
    "    phrase = re.sub(r\"\\'t\", \" not\", phrase)\n",
    "    phrase = re.sub(r\"\\'ve\", \" have\", phrase)\n",
    "    phrase = re.sub(r\"\\'m\", \" am\", phrase)\n",
    "    \n",
    "    return phrase\n",
    "def clean_text(df):\n",
    "    \"\"\"\n",
    "    Clean the review texts\n",
    "    \"\"\"\n",
    "    cleaned_review = []\n",
    "    \n",
    "    for tweet_text in tqdm(df['tweet']):\n",
    "        \n",
    "        # expand the contracted words\n",
    "        tweet_text = decontracted(tweet_text)\n",
    "        \n",
    "        #remove html tags\n",
    "        tweet_text = BeautifulSoup(tweet_text, 'lxml').get_text().strip() # re.sub(r'<.*?>', '', text)\n",
    "        \n",
    "        #remove non-alphabetic characters\n",
    "        tweet_text = re.sub(\"[^a-zA-Z]\",\" \", tweet_text)\n",
    "    \n",
    "        #the urls from tweets were replaced with '<weblink>', get rid of them here\n",
    "        tweet_text = tweet_text.replace('<weblink>', '')\n",
    "        \n",
    "        #removing punctutation, string.punctuation in python consists of !\"#$%&\\'()*+,-./:;<=>?@[\\\\]^_{|}~`\n",
    "        tweet_text = tweet_text.translate(str.maketrans('', '', string.punctuation))\n",
    "        # ''.join([char for char in movie_text_data if char not in string.punctuation])\n",
    "        \n",
    "        #remove emails\n",
    "        tweet_text = re.sub(r\"(^[a-zA-Z0-9_.+-]+@[a-zA-Z0-9-]+\\.[a-zA-Z0-9-.]+$)\", '', tweet_text)\n",
    "        \n",
    "        cleaned_review.append(tweet_text)\n",
    "\n",
    "    return cleaned_review\n",
    "\n",
    "def convert_party_to_number(df):\n",
    "    converted_label = []\n",
    "    for numeric_party in df['party']:\n",
    "        if(numeric_party == 'D'):\n",
    "            numeric_party = 0\n",
    "        else:\n",
    "            numeric_party = 1\n",
    "        converted_label.append(numeric_party)\n",
    "    return converted_label"
   ]
  },
  {
   "cell_type": "code",
   "execution_count": 102,
   "metadata": {
    "colab": {
     "base_uri": "https://localhost:8080/"
    },
    "id": "VOQZIHy9znXC",
    "outputId": "b2480344-9311-43e7-e281-f47d1ea4c5aa"
   },
   "outputs": [
    {
     "name": "stderr",
     "output_type": "stream",
     "text": [
      "100%|██████████████████████████████████████████████████████████████████████████| 21171/21171 [00:09<00:00, 2252.35it/s]\n"
     ]
    }
   ],
   "source": [
    "data['cleaned_tweet'] = clean_text(data)\n",
    "data['numeric_party'] = convert_party_to_number(data)"
   ]
  },
  {
   "cell_type": "markdown",
   "metadata": {
    "id": "2dI5xEcmUwAI"
   },
   "source": [
    "Data after cleaning"
   ]
  },
  {
   "cell_type": "code",
   "execution_count": 103,
   "metadata": {
    "colab": {
     "base_uri": "https://localhost:8080/",
     "height": 363
    },
    "id": "aNfu5uFGU0Kd",
    "outputId": "08e19503-4efb-4d15-ade5-014c1d1b7437"
   },
   "outputs": [
    {
     "data": {
      "text/html": [
       "<div>\n",
       "<style scoped>\n",
       "    .dataframe tbody tr th:only-of-type {\n",
       "        vertical-align: middle;\n",
       "    }\n",
       "\n",
       "    .dataframe tbody tr th {\n",
       "        vertical-align: top;\n",
       "    }\n",
       "\n",
       "    .dataframe thead th {\n",
       "        text-align: right;\n",
       "    }\n",
       "</style>\n",
       "<table border=\"1\" class=\"dataframe\">\n",
       "  <thead>\n",
       "    <tr style=\"text-align: right;\">\n",
       "      <th></th>\n",
       "      <th>tweet</th>\n",
       "      <th>party</th>\n",
       "      <th>length</th>\n",
       "      <th>cleaned_tweet</th>\n",
       "      <th>numeric_party</th>\n",
       "    </tr>\n",
       "  </thead>\n",
       "  <tbody>\n",
       "    <tr>\n",
       "      <th>0</th>\n",
       "      <td>From top to bottom #HR1 is a bad idea &lt;webLink&gt;</td>\n",
       "      <td>R</td>\n",
       "      <td>47</td>\n",
       "      <td>From top to bottom  HR  is a bad idea</td>\n",
       "      <td>1</td>\n",
       "    </tr>\n",
       "    <tr>\n",
       "      <th>1</th>\n",
       "      <td>Great news for our small biz in SW MI! Republi...</td>\n",
       "      <td>R</td>\n",
       "      <td>204</td>\n",
       "      <td>Great news for our small biz in SW MI  Republi...</td>\n",
       "      <td>1</td>\n",
       "    </tr>\n",
       "    <tr>\n",
       "      <th>2</th>\n",
       "      <td>I testified to the House Ways and Means Commit...</td>\n",
       "      <td>D</td>\n",
       "      <td>167</td>\n",
       "      <td>I testified to the House Ways and Means Commit...</td>\n",
       "      <td>0</td>\n",
       "    </tr>\n",
       "    <tr>\n",
       "      <th>3</th>\n",
       "      <td>Happy Palm Sunday to those who observe. May th...</td>\n",
       "      <td>R</td>\n",
       "      <td>111</td>\n",
       "      <td>Happy Palm Sunday to those who observe  May th...</td>\n",
       "      <td>1</td>\n",
       "    </tr>\n",
       "    <tr>\n",
       "      <th>4</th>\n",
       "      <td>“A government that robs Peter to pay Paul can ...</td>\n",
       "      <td>R</td>\n",
       "      <td>105</td>\n",
       "      <td>A government that robs Peter to pay Paul can ...</td>\n",
       "      <td>1</td>\n",
       "    </tr>\n",
       "  </tbody>\n",
       "</table>\n",
       "</div>"
      ],
      "text/plain": [
       "                                               tweet party  length  \\\n",
       "0    From top to bottom #HR1 is a bad idea <webLink>     R      47   \n",
       "1  Great news for our small biz in SW MI! Republi...     R     204   \n",
       "2  I testified to the House Ways and Means Commit...     D     167   \n",
       "3  Happy Palm Sunday to those who observe. May th...     R     111   \n",
       "4  “A government that robs Peter to pay Paul can ...     R     105   \n",
       "\n",
       "                                       cleaned_tweet  numeric_party  \n",
       "0              From top to bottom  HR  is a bad idea              1  \n",
       "1  Great news for our small biz in SW MI  Republi...              1  \n",
       "2  I testified to the House Ways and Means Commit...              0  \n",
       "3  Happy Palm Sunday to those who observe  May th...              1  \n",
       "4   A government that robs Peter to pay Paul can ...              1  "
      ]
     },
     "metadata": {},
     "output_type": "display_data"
    },
    {
     "data": {
      "text/plain": [
       "((21171, 5), None)"
      ]
     },
     "execution_count": 103,
     "metadata": {},
     "output_type": "execute_result"
    }
   ],
   "source": [
    "data.shape, display(data.head())"
   ]
  },
  {
   "cell_type": "markdown",
   "metadata": {
    "id": "KnP1QP7H0L_K"
   },
   "source": [
    "Below is the set of stopwords that will be ignored by the count vectorizer. "
   ]
  },
  {
   "cell_type": "code",
   "execution_count": 104,
   "metadata": {
    "id": "R5JMmIsQ0G3_"
   },
   "outputs": [],
   "source": [
    "stopwords= set(['br', 'the', 'i', 'me', 'my', 'myself', 'we', 'our', 'ours', 'ourselves', 'you', \"you're\", \"you've\",\\\n",
    "            \"you'll\", \"you'd\", 'your', 'yours', 'yourself', 'yourselves', 'he', 'him', 'his', 'himself', \\\n",
    "            'she', \"she's\", 'her', 'hers', 'herself', 'it', \"it's\", 'its', 'itself', 'they', 'them', 'their',\\\n",
    "            'theirs', 'themselves', 'what', 'which', 'who', 'whom', 'this', 'that', \"that'll\", 'these', 'those', \\\n",
    "            'am', 'is', 'are', 'was', 'were', 'be', 'been', 'being', 'have', 'has', 'had', 'having', 'do', 'does', \\\n",
    "            'did', 'doing', 'a', 'an', 'the', 'and', 'but', 'if', 'or', 'because', 'as', 'until', 'while', 'of', \\\n",
    "            'at', 'by', 'for', 'with', 'about', 'against', 'between', 'into', 'through', 'during', 'before', 'after',\\\n",
    "            'above', 'below', 'to', 'from', 'up', 'down', 'in', 'out', 'on', 'off', 'over', 'under', 'again', 'further',\\\n",
    "            'then', 'once', 'here', 'there', 'when', 'where', 'why', 'how', 'all', 'any', 'both', 'each', 'few', 'more',\\\n",
    "            'most', 'other', 'some', 'such', 'only', 'own', 'same', 'so', 'than', 'too', 'very', \\\n",
    "            's', 't', 'can', 'will', 'just', 'don', \"don't\", 'should', \"should've\", 'now', 'd', 'll', 'm', 'o', 're', \\\n",
    "            've', 'y', 'ain', 'aren', \"aren't\", 'couldn', \"couldn't\", 'didn', \"didn't\", 'doesn', \"doesn't\", 'hadn',\\\n",
    "            \"hadn't\", 'hasn', \"hasn't\", 'haven', \"haven't\", 'isn', \"isn't\", 'ma', 'mightn', \"mightn't\", 'mustn',\\\n",
    "            \"mustn't\", 'needn', \"needn't\", 'shan', \"shan't\", 'shouldn', \"shouldn't\", 'wasn', \"wasn't\", 'weren', \"weren't\", \\\n",
    "            'won', \"won't\", 'wouldn', \"wouldn't\",\"no\",\"nor\",\"not\"])"
   ]
  },
  {
   "cell_type": "markdown",
   "metadata": {
    "id": "ka-iXvoP0kEh"
   },
   "source": [
    "**Vectorizing The Data**"
   ]
  },
  {
   "cell_type": "code",
   "execution_count": 106,
   "metadata": {
    "colab": {
     "base_uri": "https://localhost:8080/"
    },
    "id": "kkV_bKYi0a4v",
    "outputId": "55418d1d-a523-4fe5-d637-2035823984f3"
   },
   "outputs": [
    {
     "name": "stdout",
     "output_type": "stream",
     "text": [
      "Vector Shape:\t\t (21171, 251311)\n",
      "Party Label Shape:\t (21171,)\n"
     ]
    }
   ],
   "source": [
    "vectorizer = CountVectorizer(lowercase=True,stop_words=stopwords,max_df=0.6,min_df=1,ngram_range=(1,2))\n",
    "#convert the celaned tweets into vectors, store them in X. Party labels stored in Y\n",
    "X = vectorizer.fit_transform(data['cleaned_tweet'])\n",
    "Y = data['numeric_party']\n",
    "#print(X.toarray()[0])\n",
    "print(\"Vector Shape:\\t\\t\", X.shape)\n",
    "print(\"Party Label Shape:\\t\", Y.shape)"
   ]
  },
  {
   "cell_type": "markdown",
   "metadata": {
    "id": "pdz9mA8008se"
   },
   "source": [
    "**Train Test Split** \n",
    "\n",
    "Here I used an 80% training and 20% testing split to partition the data. "
   ]
  },
  {
   "cell_type": "code",
   "execution_count": 107,
   "metadata": {
    "colab": {
     "base_uri": "https://localhost:8080/"
    },
    "id": "oHyDKPjJ0hMr",
    "outputId": "6caa213d-970e-4794-8dfa-7b63a58945d5"
   },
   "outputs": [
    {
     "name": "stdout",
     "output_type": "stream",
     "text": [
      "Number of training examples:\t 15878\n",
      "Number of testing examples:\t 5293\n",
      "\n",
      "Training data:\n",
      "X: (15878, 251311), Y: (15878,)\n",
      "\n",
      "Testing data:\n",
      "X: (5293, 251311), Y: (5293,)\n"
     ]
    }
   ],
   "source": [
    "train_idx, test_idx = train_test_split(np.arange(data.shape[0]), test_size=0.25, shuffle=True, random_state=42)\n",
    "\n",
    "#show split\n",
    "print(\"Number of training examples:\\t\", len(train_idx))\n",
    "print(\"Number of testing examples:\\t\", len(test_idx))\n",
    "\n",
    "#train/test split the data\n",
    "X_train = X[train_idx]\n",
    "Y_train = Y[train_idx]\n",
    "X_test = X[test_idx]\n",
    "Y_test = Y[test_idx]\n",
    "\n",
    "#show shape of each partition\n",
    "print(\"\\nTraining data:\\nX: {}, Y: {}\".format(X_train.shape,Y_train.shape))\n",
    "print(\"\\nTesting data:\\nX: {}, Y: {}\".format(X_test.shape,Y_test.shape))"
   ]
  },
  {
   "cell_type": "markdown",
   "metadata": {
    "id": "9SUds50j1teQ"
   },
   "source": [
    "**Fitting the Logistic Regreassion**"
   ]
  },
  {
   "cell_type": "code",
   "execution_count": 108,
   "metadata": {
    "id": "c-AdIkA21sbx"
   },
   "outputs": [],
   "source": [
    "#fit the logistic regression\n",
    "lr_clf = LogisticRegression(max_iter=1000,solver='lbfgs',penalty='l2')\n",
    "lr_clf.fit(X_train, Y_train)\n",
    "y_pred_test = lr_clf.predict(X_test)\n",
    "y_predprob_test = lr_clf.predict_proba(X_test)"
   ]
  },
  {
   "cell_type": "markdown",
   "metadata": {
    "id": "9FG6OHOB2E0M"
   },
   "source": [
    "**Evaluating Performance**\n",
    "\n",
    "First looking at the classification report"
   ]
  },
  {
   "cell_type": "code",
   "execution_count": 109,
   "metadata": {
    "colab": {
     "base_uri": "https://localhost:8080/"
    },
    "id": "bt5FZ72F2IQ4",
    "outputId": "6724b1ff-f09b-44e3-f334-83fb0f38c64b"
   },
   "outputs": [
    {
     "name": "stdout",
     "output_type": "stream",
     "text": [
      "Classification Report:\n",
      "               precision    recall  f1-score   support\n",
      "\n",
      "           0       0.84      0.80      0.82      2804\n",
      "           1       0.78      0.83      0.81      2489\n",
      "\n",
      "    accuracy                           0.81      5293\n",
      "   macro avg       0.81      0.81      0.81      5293\n",
      "weighted avg       0.81      0.81      0.81      5293\n",
      "\n",
      "Cross Validation Score:\n",
      " [0.81169456 0.82014388 0.81969756 0.81296081]\n"
     ]
    }
   ],
   "source": [
    "#check out how well the model performed\n",
    "print(\"Classification Report:\\n\", classification_report(Y_test, y_pred_test))\n",
    "scores = cross_val_score(lr_clf, X, Y, cv=4, scoring='f1')\n",
    "print(\"Cross Validation Score:\\n\",scores)"
   ]
  },
  {
   "cell_type": "markdown",
   "metadata": {
    "id": "jE_NJmdH2gQj"
   },
   "source": [
    "Now the ROC curve\n",
    "\n",
    "Note that republicans were chosen as the \"positive\" label. This was an arbitrary decision following the labels 0 and 1 for D and R.  "
   ]
  },
  {
   "cell_type": "code",
   "execution_count": 110,
   "metadata": {
    "colab": {
     "base_uri": "https://localhost:8080/",
     "height": 295
    },
    "id": "fHeykdpG2j1c",
    "outputId": "f7c90379-c88b-44d5-eb12-99cd34834ac5"
   },
   "outputs": [
    {
     "data": {
      "image/png": "[encoded data removed]",
      "text/plain": [
       "<Figure size 432x288 with 1 Axes>"
      ]
     },
     "metadata": {
      "needs_background": "light"
     },
     "output_type": "display_data"
    }
   ],
   "source": [
    "fpr, tpr, thresholds = roc_curve(y_true = Y_test, y_score = y_predprob_test[:,1], pos_label=1)\n",
    "roc_auc = auc(fpr, tpr) # area under ROC curve\n",
    "\n",
    "plt.figure()\n",
    "lw = 2\n",
    "plt.plot(fpr, tpr, color='darkorange', lw=lw, label='ROC curve (area = %0.2f)' % roc_auc)\n",
    "plt.plot([0, 1], [0, 1], color='navy', lw=lw, linestyle='--')\n",
    "plt.xlim([0.0, 1.0])\n",
    "plt.ylim([0.0, 1.05])\n",
    "plt.xlabel('False Republican Rate')\n",
    "plt.ylabel('True Republican Rate')\n",
    "plt.title('ROC (Receiver operating characteristic) curve')\n",
    "plt.legend(loc=\"lower right\")\n",
    "plt.show()"
   ]
  },
  {
   "cell_type": "markdown",
   "metadata": {
    "id": "Esy8ceP2d1xT"
   },
   "source": [
    "**Parameter Tuning with Grid Search**"
   ]
  },
  {
   "cell_type": "code",
   "execution_count": 111,
   "metadata": {
    "id": "R7G00oAId1AF"
   },
   "outputs": [
    {
     "name": "stdout",
     "output_type": "stream",
     "text": [
      "Best parameter (CV score = 0.816):\n",
      "{'classifier__penalty': 'l2', 'vectorizer__max_df': 0.6, 'vectorizer__min_df': 1, 'vectorizer__ngram_range': (1, 2)}\n"
     ]
    }
   ],
   "source": [
    "vectorizer = CountVectorizer(lowercase=True,stop_words=stopwords)\n",
    "logistic = LogisticRegression(max_iter=1000,solver='lbfgs')\n",
    "\n",
    "#build a pipeline\n",
    "pipe = Pipeline(steps = [('vectorizer',vectorizer),\n",
    "                         ('classifier',logistic)])\n",
    "\n",
    "#dictionary for model params and corresponding values\n",
    "param_grid = {\n",
    "    'vectorizer__min_df':[1,2,3],\n",
    "    'vectorizer__max_df':[0.6,0.7,0.8],\n",
    "    'vectorizer__ngram_range':[(1,1),(1,2),(2,2),(1,3)],\n",
    "    'classifier__penalty':['none','l2']\n",
    "}\n",
    "\n",
    "search_result = GridSearchCV(pipe,param_grid,cv=4,scoring='f1',n_jobs=6).fit(data.cleaned_tweet.values, data.numeric_party.values)\n",
    "\n",
    "print(\"Best parameter (CV score = %0.3f):\" % search_result.best_score_)\n",
    "print(search_result.best_params_)"
   ]
  },
  {
   "cell_type": "markdown",
   "metadata": {
    "id": "XRvu2X0h8cRj"
   },
   "source": [
    "Top features for each party"
   ]
  },
  {
   "cell_type": "code",
   "execution_count": 49,
   "metadata": {
    "colab": {
     "base_uri": "https://localhost:8080/"
    },
    "id": "I3m1Z2vi5Eok",
    "outputId": "556b219a-02c1-4586-f6b6-b5a881c42387"
   },
   "outputs": [
    {
     "name": "stdout",
     "output_type": "stream",
     "text": [
      "\n",
      "Top party 1 features:\n",
      "('realdonaldtrump', 2.271)\n",
      "('bidenbordercrisis', 2.247)\n",
      "('china', 1.635)\n",
      "('democrats', 1.599)\n",
      "('border', 1.59)\n",
      "('ccp', 1.571)\n",
      "('utpol', 1.375)\n",
      "('god', 1.369)\n",
      "('idaho', 1.321)\n",
      "('get vote', 1.31)\n",
      "('partisan', 1.301)\n",
      "('pelosi', 1.291)\n",
      "('ohio', 1.272)\n",
      "('nuclear', 1.263)\n",
      "('alaska', 1.242)\n",
      "\n",
      "Top party 0 features:\n",
      "('americanrescueplan', -3.594)\n",
      "('stopasianhate', -2.197)\n",
      "('az', -1.758)\n",
      "('nj', -1.534)\n",
      "('dcstatehood', -1.526)\n",
      "('buildbackbetter', -1.462)\n",
      "('chair', -1.449)\n",
      "('msnbc', -1.417)\n",
      "('democracy', -1.384)\n",
      "('invest', -1.372)\n",
      "('forthepeople', -1.34)\n",
      "('sameach happy', -1.34)\n",
      "('guam', -1.322)\n",
      "('black', -1.278)\n",
      "('transgender', -1.272)\n"
     ]
    }
   ],
   "source": [
    "feature_to_coef = {word: float(\"%.3f\" % coef) for word, coef in zip(vectorizer.get_feature_names(), lr_clf.coef_[0])}\n",
    "\n",
    "print(\"\\nTop party 1 features:\")\n",
    "for item in (sorted(feature_to_coef.items(), key=lambda x: x[1], reverse=True)[:15]):\n",
    "    print(item)\n",
    "\n",
    "# most of the words are reliable evidence of indicating negative sentiments\n",
    "print(\"\\nTop party 0 features:\")\n",
    "for item in (sorted(feature_to_coef.items(), key=lambda x: x[1], reverse=False)[:15]):\n",
    "    print(item)\n",
    "    \n",
    "    "
   ]
  },
  {
   "cell_type": "code",
   "execution_count": null,
   "metadata": {},
   "outputs": [],
   "source": []
  }
 ],
 "metadata": {
  "colab": {
   "collapsed_sections": [],
   "name": "cs481Project.ipynb",
   "provenance": []
  },
  "kernelspec": {
   "display_name": "Python 3",
   "language": "python",
   "name": "python3"
  },
  "language_info": {
   "codemirror_mode": {
    "name": "ipython",
    "version": 3
   },
   "file_extension": ".py",
   "mimetype": "text/x-python",
   "name": "python",
   "nbconvert_exporter": "python",
   "pygments_lexer": "ipython3",
   "version": "3.7.3"
  }
 },
 "nbformat": 4,
 "nbformat_minor": 1
}
