{
 "cells": [
  {
   "cell_type": "markdown",
   "metadata": {
    "id": "hlZulOCT9WfU"
   },
   "source": [
    "**CS 481 Final Project**\n",
    "\n",
    "The goal of this project is to classify tweets from members of U.S. congress by their political party. "
   ]
  },
  {
   "cell_type": "markdown",
   "metadata": {
    "id": "TKyNEhRprZfW"
   },
   "source": [
    "The file ['party_tweets.csv'](https://github.com/GeorgeIIT/cs481project/blob/main/party_tweets.csv) contains tweets and retweets from members of the US Congress. Each tweet is labeled with the congress member's party affiliation. The partys are Democrats and Republicans, Members of a third party were not included. Tweets were collected by pulling the last 40 tweets (retweets included) from each congress member's user timeline on 4/1/21. The goal for this repository is to predict the political party of a legislator based on the content they share online. It should be noted that these are official twitter accounts so the vast majority of the content posted is relevant to the user's political career. Models trained with this dataset may not be effective for predicting the party affiliation of non-political content, or political content from perspectives outside of the United States.\n",
    "\n",
    "  * Total tweets: 21181\n",
    "  * Democrat Tweets (D): 10956\n",
    "  * Republican Tweets (R): 10225\n",
    "  * Ratio: 52:48 D:R\n",
    "\n",
    "The code used for collecting the twitter data is in ['Get_congress_tw_data.py'](https://github.com/GeorgeIIT/cs481project/blob/main/Get_congress_tw_data.py). If you wish to run it, you will need to provide your own twitter authentication tokens. Also be warned that it takes several hours to run because of the rate limit for twitter API calls.\n",
    "\n",
    "Congress member twitter handles were found on [Triage Cancer's](https://triagecancer.org/congressional-social-media) website."
   ]
  },
  {
   "cell_type": "markdown",
   "metadata": {
    "id": "JuQuqx_1O5hb"
   },
   "source": [
    "**Libraries Used**"
   ]
  },
  {
   "cell_type": "code",
   "execution_count": 3,
   "metadata": {
    "id": "wwzYMsMdsLUJ"
   },
   "outputs": [],
   "source": [
    "#Data Representation\n",
    "import numpy as np\n",
    "import pandas as pd\n",
    "import string\n",
    "\n",
    "#Preprocessing Text\n",
    "from tqdm import tqdm\n",
    "import re\n",
    "from bs4 import BeautifulSoup\n",
    "\n",
    "#Vector Representaion\n",
    "from sklearn.feature_extraction.text import CountVectorizer\n",
    "\n",
    "#Train/Test Split\n",
    "from sklearn.model_selection import train_test_split\n",
    "\n",
    "#Logistic Regression Algorithm\n",
    "from sklearn.linear_model import LogisticRegression\n",
    "\n",
    "#Performance Evaluation\n",
    "from sklearn.metrics import classification_report,confusion_matrix\n",
    "from sklearn.model_selection import cross_val_score\n",
    "from sklearn.metrics import roc_curve, auc\n",
    "\n",
    "#Parameter Tuning\n",
    "from sklearn.model_selection import GridSearchCV\n",
    "from sklearn.pipeline import Pipeline\n",
    "\n",
    "#Plotting (used to explore the data and evaluate model performance)\n",
    "import matplotlib.pyplot as plt"
   ]
  },
  {
   "cell_type": "markdown",
   "metadata": {},
   "source": [
    "**Load the Data**"
   ]
  },
  {
   "cell_type": "code",
   "execution_count": 40,
   "metadata": {},
   "outputs": [
    {
     "data": {
      "text/html": [
       "<div>\n",
       "<style scoped>\n",
       "    .dataframe tbody tr th:only-of-type {\n",
       "        vertical-align: middle;\n",
       "    }\n",
       "\n",
       "    .dataframe tbody tr th {\n",
       "        vertical-align: top;\n",
       "    }\n",
       "\n",
       "    .dataframe thead th {\n",
       "        text-align: right;\n",
       "    }\n",
       "</style>\n",
       "<table border=\"1\" class=\"dataframe\">\n",
       "  <thead>\n",
       "    <tr style=\"text-align: right;\">\n",
       "      <th></th>\n",
       "      <th>idx</th>\n",
       "      <th>tweet</th>\n",
       "      <th>party</th>\n",
       "    </tr>\n",
       "  </thead>\n",
       "  <tbody>\n",
       "    <tr>\n",
       "      <th>0</th>\n",
       "      <td>0</td>\n",
       "      <td>Happy birthday, @SenatorLeahy. Grateful for our longstanding friendship and willingness to work together on the Senate Appropriations Committee. Looking forward to another productive year.</td>\n",
       "      <td>R</td>\n",
       "    </tr>\n",
       "    <tr>\n",
       "      <th>1</th>\n",
       "      <td>1</td>\n",
       "      <td>Pleased that 20 airports throughout Alabama will benefit from more than $11.2M in @FAAnews grants. These @USDOT funds will help airports receive the upgrades and enhancements needed to continue serving local communities and driving economic development. &lt;webLink&gt;</td>\n",
       "      <td>R</td>\n",
       "    </tr>\n",
       "    <tr>\n",
       "      <th>2</th>\n",
       "      <td>2</td>\n",
       "      <td>More information regarding my letter: &lt;webLink&gt;</td>\n",
       "      <td>R</td>\n",
       "    </tr>\n",
       "    <tr>\n",
       "      <th>3</th>\n",
       "      <td>3</td>\n",
       "      <td>Today I sent a letter to @Amtrak, @CSX, @nscorp, &amp; Surface Transportation Board stating that a data-driven process is essential prior to starting new passenger rail in Mobile. A comprehensive study would alleviate concerns re how the new service could impact growth in the area. &lt;webLink&gt;</td>\n",
       "      <td>R</td>\n",
       "    </tr>\n",
       "    <tr>\n",
       "      <th>4</th>\n",
       "      <td>4</td>\n",
       "      <td>🚨LIVE NOW🚨Senate GOP is on the ground discussing the crisis at the border.Tune in here! ⤵️ &lt;webLink&gt;</td>\n",
       "      <td>R</td>\n",
       "    </tr>\n",
       "  </tbody>\n",
       "</table>\n",
       "</div>"
      ],
      "text/plain": [
       "   idx  \\\n",
       "0  0     \n",
       "1  1     \n",
       "2  2     \n",
       "3  3     \n",
       "4  4     \n",
       "\n",
       "                                                                                                                                                                                                                                                                                              tweet  \\\n",
       "0  Happy birthday, @SenatorLeahy. Grateful for our longstanding friendship and willingness to work together on the Senate Appropriations Committee. Looking forward to another productive year.                                                                                                       \n",
       "1  Pleased that 20 airports throughout Alabama will benefit from more than $11.2M in @FAAnews grants. These @USDOT funds will help airports receive the upgrades and enhancements needed to continue serving local communities and driving economic development. <webLink>                            \n",
       "2  More information regarding my letter: <webLink>                                                                                                                                                                                                                                                    \n",
       "3  Today I sent a letter to @Amtrak, @CSX, @nscorp, & Surface Transportation Board stating that a data-driven process is essential prior to starting new passenger rail in Mobile. A comprehensive study would alleviate concerns re how the new service could impact growth in the area. <webLink>   \n",
       "4  🚨LIVE NOW🚨Senate GOP is on the ground discussing the crisis at the border.Tune in here! ⤵️ <webLink>                                                                                                                                                                                               \n",
       "\n",
       "  party  \n",
       "0  R     \n",
       "1  R     \n",
       "2  R     \n",
       "3  R     \n",
       "4  R     "
      ]
     },
     "metadata": {},
     "output_type": "display_data"
    },
    {
     "data": {
      "text/plain": [
       "((21182, 3), None)"
      ]
     },
     "execution_count": 40,
     "metadata": {},
     "output_type": "execute_result"
    }
   ],
   "source": [
    "#read in the data as a pandas dataframe, pipes (|) were used as delimiters. \n",
    "data = pd.read_csv('party_tweets.csv',sep='|',engine='python',encoding='utf-8',quoting=3)\n",
    "#make sure pandas does not truncate display\n",
    "pd.set_option('display.max_colwidth', -1) #change '-1' to 'none' here if using a later version of pandas \n",
    "data.shape, display(data.head())"
   ]
  },
  {
   "cell_type": "markdown",
   "metadata": {
    "id": "bOPXAHkouBB6"
   },
   "source": [
    "**Exploring the Data**"
   ]
  },
  {
   "cell_type": "code",
   "execution_count": 41,
   "metadata": {
    "colab": {
     "base_uri": "https://localhost:8080/",
     "height": 726
    },
    "id": "Rff5A1C_uJ5f",
    "outputId": "45a1410d-2367-4e57-b731-b8ca65da1b9c"
   },
   "outputs": [
    {
     "name": "stdout",
     "output_type": "stream",
     "text": [
      "empty cells:\n",
      "idx      0\n",
      "tweet    0\n",
      "party    0\n",
      "dtype: int64\n",
      "\n",
      "Shape before dropping duplicates:\n",
      "(21182, 3)\n",
      "Shape after dropping duplicates:\n",
      "(21171, 3)\n",
      "\n",
      "Distribution of classes:\n",
      "D    10956\n",
      "R    10215\n",
      "Name: party, dtype: int64\n",
      "\n",
      "Tweet charechter length info:\n",
      "count    21171.000000\n",
      "mean     199.848425  \n",
      "std      74.182438   \n",
      "min      3.000000    \n",
      "25%      148.000000  \n",
      "50%      220.000000  \n",
      "75%      262.000000  \n",
      "max      735.000000  \n",
      "Name: length, dtype: float64\n"
     ]
    },
    {
     "data": {
      "image/png": "[encoded data removed]",
      "text/plain": [
       "<Figure size 864x288 with 2 Axes>"
      ]
     },
     "metadata": {
      "needs_background": "light"
     },
     "output_type": "display_data"
    },
    {
     "data": {
      "text/html": [
       "<div>\n",
       "<style scoped>\n",
       "    .dataframe tbody tr th:only-of-type {\n",
       "        vertical-align: middle;\n",
       "    }\n",
       "\n",
       "    .dataframe tbody tr th {\n",
       "        vertical-align: top;\n",
       "    }\n",
       "\n",
       "    .dataframe thead th {\n",
       "        text-align: right;\n",
       "    }\n",
       "</style>\n",
       "<table border=\"1\" class=\"dataframe\">\n",
       "  <thead>\n",
       "    <tr style=\"text-align: right;\">\n",
       "      <th></th>\n",
       "      <th>tweet</th>\n",
       "      <th>party</th>\n",
       "      <th>length</th>\n",
       "    </tr>\n",
       "  </thead>\n",
       "  <tbody>\n",
       "    <tr>\n",
       "      <th>3037</th>\n",
       "      <td>@LisaBRochester @AnnMcLaneKuster @CarolynBMaloney @val_demings @wildforcongress @StricklandforWA @SpanbergerVA07 @KatherineClark @AlmaforCongress @Lizzie4Congress @LindaTSanchez @JoyceBeatty @LoisFrankel @dinatitus @lucymcbath @DeborahRossNC @JackieSpeier @AOC @RobinLynneKelly @SMurphyCongress @ElaineLuriaVA @RepSchakowsky @Marcy_Kaptur @LaurenUnderwood @ElissaSlotkin @Matsui4Congress @vgescobar @AyannaPressley @Axne4Congress @Bonnie4Congress Congresswoman @KathyManningNC worked as a nonprofit leader, helping to create opportunity for #NC06 families with equity in education and health care.As a small business owner, she developed a passion for an economy that truly rewards hard work &amp; innovation. #WomensHistoryMonth &lt;webLink&gt;</td>\n",
       "      <td>D</td>\n",
       "      <td>735</td>\n",
       "    </tr>\n",
       "  </tbody>\n",
       "</table>\n",
       "</div>"
      ],
      "text/plain": [
       "                                                                                                                                                                                                                                                                                                                                                                                                                                                                                                                                                                                                                                                                                                                                                                tweet  \\\n",
       "3037  @LisaBRochester @AnnMcLaneKuster @CarolynBMaloney @val_demings @wildforcongress @StricklandforWA @SpanbergerVA07 @KatherineClark @AlmaforCongress @Lizzie4Congress @LindaTSanchez @JoyceBeatty @LoisFrankel @dinatitus @lucymcbath @DeborahRossNC @JackieSpeier @AOC @RobinLynneKelly @SMurphyCongress @ElaineLuriaVA @RepSchakowsky @Marcy_Kaptur @LaurenUnderwood @ElissaSlotkin @Matsui4Congress @vgescobar @AyannaPressley @Axne4Congress @Bonnie4Congress Congresswoman @KathyManningNC worked as a nonprofit leader, helping to create opportunity for #NC06 families with equity in education and health care.As a small business owner, she developed a passion for an economy that truly rewards hard work & innovation. #WomensHistoryMonth <webLink>   \n",
       "\n",
       "     party  length  \n",
       "3037  D     735     "
      ]
     },
     "execution_count": 41,
     "metadata": {},
     "output_type": "execute_result"
    }
   ],
   "source": [
    "#check empty cells (should be 0 for this dataset)\n",
    "print(\"empty cells:\\n{}\".format(data.isnull().sum()))\n",
    "\n",
    "#drop duplicate entries, this data set happens to have 10\n",
    "print(\"\\nShape before dropping duplicates:\\n{}\".format(data.shape))\n",
    "data = data.drop_duplicates(keep=\"first\")\n",
    "print(\"Shape after dropping duplicates:\\n{}\".format(data.shape))\n",
    "\n",
    "#dropping the index given in the .csv file so it is not confused wit hthe pandas index \n",
    "data = data.drop(['idx'],axis=1)\n",
    "\n",
    "#data is sorted by legislator in 40 tweet chunks, we need to shuffle them and reset the index\n",
    "data = data.sample(frac=1, random_state=13).reset_index(drop=True)\n",
    "\n",
    "#check the balance of the data\n",
    "print(\"\\nDistribution of classes:\\n{}\".format(data.party.value_counts()))\n",
    "\n",
    "#take a look at the length of the tweets, this also adds a new column to the dataset\n",
    "data['length'] = data['tweet'].apply(len)\n",
    "print(\"\\nTweet charechter length info:\\n{}\".format(data['length'].describe()))\n",
    "\n",
    "#get a visualization of the length distribution by party\n",
    "data.hist(column='length',by='party',bins=30,figsize=(12,4),rwidth=0.9)\n",
    "plt.show()\n",
    "\n",
    "#lets see a tweet that was over 280 chars\n",
    "data.query('length > 700')"
   ]
  },
  {
   "cell_type": "markdown",
   "metadata": {
    "id": "IDT1p1royYTS"
   },
   "source": [
    "You can see above that most tweets max out at 280 charecters, Twitter's current charecter limit. There are a few outliers that changed the scale of the two graphs though. These posts were able to excceed the limit becuase mentions of other users do not count towards the charechter limit. Chains of mentions can create very long tweets like this."
   ]
  },
  {
   "cell_type": "markdown",
   "metadata": {
    "id": "Awjt7wUv0wZT"
   },
   "source": [
    "**Preprocessing the Data**"
   ]
  },
  {
   "cell_type": "markdown",
   "metadata": {
    "id": "jA4OnglWzBOw"
   },
   "source": [
    "These three functions are going to be used to clean up the data. Mainly expanding contractions and removing special charecters. But the last one converts the party label from D and R to 0 and 1 respectively. "
   ]
  },
  {
   "cell_type": "code",
   "execution_count": 77,
   "metadata": {
    "id": "AERp5F4QzZa8"
   },
   "outputs": [],
   "source": [
    "def decontracted(phrase):\n",
    "    \"\"\"\n",
    "    We first define a function to expand the contracted phrase into normal words\n",
    "    \"\"\"\n",
    "    # specific\n",
    "    phrase = re.sub(r\"won't\", \"will not\", phrase)\n",
    "    phrase = re.sub(r\"can\\'t\", \"can not\", phrase)\n",
    "\n",
    "    # general\n",
    "    phrase = re.sub(r\"n\\'t\", \" not\", phrase)\n",
    "    phrase = re.sub(r\"\\'re\", \" are\", phrase)\n",
    "    phrase = re.sub(r\"\\'s\", \" is\", phrase) # prime \n",
    "    phrase = re.sub(r\"\\'d\", \" would\", phrase)\n",
    "    phrase = re.sub(r\"\\'ll\", \" will\", phrase)\n",
    "    phrase = re.sub(r\"\\'t\", \" not\", phrase)\n",
    "    phrase = re.sub(r\"\\'ve\", \" have\", phrase)\n",
    "    phrase = re.sub(r\"\\'m\", \" am\", phrase)\n",
    "    \n",
    "    return phrase\n",
    "def clean_text(df):\n",
    "    \"\"\"\n",
    "    Clean the review texts\n",
    "    \"\"\"\n",
    "    cleaned_review = []\n",
    "    \n",
    "    for tweet_text in tqdm(df['tweet']):\n",
    "        \n",
    "        #remove twitter handles\n",
    "        #tweet_text = re.sub(r'@\\S+',\"\", tweet_text)\n",
    "        \n",
    "        #remove hashtags\n",
    "        #tweet_text = re.sub(r'#\\S+',\"\", tweet_text)\n",
    "        \n",
    "        # expand the contracted words\n",
    "        tweet_text = decontracted(tweet_text)\n",
    "        \n",
    "        #remove html tags\n",
    "        tweet_text = BeautifulSoup(tweet_text, 'lxml').get_text().strip() # re.sub(r'<.*?>', '', text)\n",
    "        \n",
    "        #remove non-alphabetic characters\n",
    "        tweet_text = re.sub(\"[^a-zA-Z]\",\" \", tweet_text)\n",
    "    \n",
    "        #the urls from tweets were replaced with '<weblink>', get rid of them here\n",
    "        tweet_text = tweet_text.replace('<weblink>', '')\n",
    "        \n",
    "        #removing punctutation, string.punctuation in python consists of !\"#$%&\\'()*+,-./:;<=>?@[\\\\]^_{|}~`\n",
    "        tweet_text = tweet_text.translate(str.maketrans('', '', string.punctuation))\n",
    "        # ''.join([char for char in movie_text_data if char not in string.punctuation])\n",
    "        \n",
    "        #remove emails\n",
    "        tweet_text = re.sub(r\"(^[a-zA-Z0-9_.+-]+@[a-zA-Z0-9-]+\\.[a-zA-Z0-9-.]+$)\", '', tweet_text)\n",
    "        \n",
    "        cleaned_review.append(tweet_text)\n",
    "\n",
    "    return cleaned_review\n",
    "\n",
    "def convert_party_to_number(df):\n",
    "    converted_label = []\n",
    "    for numeric_party in df['party']:\n",
    "        if(numeric_party == 'D'):\n",
    "            numeric_party = 0\n",
    "        else:\n",
    "            numeric_party = 1\n",
    "        converted_label.append(numeric_party)\n",
    "    return converted_label"
   ]
  },
  {
   "cell_type": "code",
   "execution_count": 78,
   "metadata": {
    "colab": {
     "base_uri": "https://localhost:8080/"
    },
    "id": "VOQZIHy9znXC",
    "outputId": "b2480344-9311-43e7-e281-f47d1ea4c5aa"
   },
   "outputs": [
    {
     "name": "stderr",
     "output_type": "stream",
     "text": [
      "100%|██████████████████████████████████████████████████████████████████████████| 21171/21171 [00:12<00:00, 1662.19it/s]\n"
     ]
    }
   ],
   "source": [
    "data['cleaned_tweet'] = clean_text(data)\n",
    "data['numeric_party'] = convert_party_to_number(data)"
   ]
  },
  {
   "cell_type": "code",
   "execution_count": 79,
   "metadata": {},
   "outputs": [
    {
     "name": "stdout",
     "output_type": "stream",
     "text": [
      "\n",
      "Tweet charechter length info:\n",
      "count    21171.000000\n",
      "mean     191.794625  \n",
      "std      74.451879   \n",
      "min      0.000000    \n",
      "25%      140.000000  \n",
      "50%      212.000000  \n",
      "75%      253.000000  \n",
      "max      725.000000  \n",
      "Name: clean_length, dtype: float64\n"
     ]
    },
    {
     "data": {
      "image/png": "[encoded data removed]",
      "text/plain": [
       "<Figure size 864x288 with 2 Axes>"
      ]
     },
     "metadata": {
      "needs_background": "light"
     },
     "output_type": "display_data"
    }
   ],
   "source": [
    "#take a look at the length of the cleaned tweets, this also adds a new column to the dataset\n",
    "data['clean_length'] = data['cleaned_tweet'].apply(len)\n",
    "print(\"\\nTweet charechter length info:\\n{}\".format(data['clean_length'].describe()))\n",
    "\n",
    "#get a visualization of the length distribution by party\n",
    "data.hist(column='clean_length',by='party',bins=30,figsize=(12,4),rwidth=0.9)\n",
    "plt.show()"
   ]
  },
  {
   "cell_type": "markdown",
   "metadata": {
    "id": "2dI5xEcmUwAI"
   },
   "source": [
    "Data after cleaning"
   ]
  },
  {
   "cell_type": "code",
   "execution_count": 80,
   "metadata": {
    "colab": {
     "base_uri": "https://localhost:8080/",
     "height": 363
    },
    "id": "aNfu5uFGU0Kd",
    "outputId": "08e19503-4efb-4d15-ade5-014c1d1b7437"
   },
   "outputs": [
    {
     "data": {
      "text/html": [
       "<div>\n",
       "<style scoped>\n",
       "    .dataframe tbody tr th:only-of-type {\n",
       "        vertical-align: middle;\n",
       "    }\n",
       "\n",
       "    .dataframe tbody tr th {\n",
       "        vertical-align: top;\n",
       "    }\n",
       "\n",
       "    .dataframe thead th {\n",
       "        text-align: right;\n",
       "    }\n",
       "</style>\n",
       "<table border=\"1\" class=\"dataframe\">\n",
       "  <thead>\n",
       "    <tr style=\"text-align: right;\">\n",
       "      <th></th>\n",
       "      <th>tweet</th>\n",
       "      <th>party</th>\n",
       "      <th>length</th>\n",
       "      <th>cleaned_tweet</th>\n",
       "      <th>numeric_party</th>\n",
       "      <th>clean_length</th>\n",
       "    </tr>\n",
       "  </thead>\n",
       "  <tbody>\n",
       "    <tr>\n",
       "      <th>3676</th>\n",
       "      <td>We've all gone through a lot in the past year. From one neighbor lost to now over 23k. We've seen families stretched, businesses close, and communities feel the pain. I voted for this bill because your government should be doing everything to help; it's why I voted to deliver it.</td>\n",
       "      <td>D</td>\n",
       "      <td>280</td>\n",
       "      <td>We have all gone through a lot in the past year  From one neighbor lost to now over   k  We have seen families stretched  businesses close  and communities feel the pain  I voted for this bill because your government should be doing everything to help  it is why I voted to deliver it</td>\n",
       "      <td>0</td>\n",
       "      <td>285</td>\n",
       "    </tr>\n",
       "    <tr>\n",
       "      <th>5882</th>\n",
       "      <td>@dr_sheffield And finally, question for ya...are the 70% of the HD 59 folks that went to the polls and voted to fire you in Mar all ET clones?  Has NOTHING to do with ET &amp; everything to do with yer awful liberal voting record &amp; disdain/arrogance you’ve shown for your own constituents.</td>\n",
       "      <td>R</td>\n",
       "      <td>285</td>\n",
       "      <td>dr sheffield And finally  question for ya   are the     of the HD    folks that went to the polls and voted to fire you in Mar all ET clones   Has NOTHING to do with ET   everything to do with yer awful liberal voting record   disdain arrogance you ve shown for your own constituents</td>\n",
       "      <td>1</td>\n",
       "      <td>285</td>\n",
       "    </tr>\n",
       "    <tr>\n",
       "      <th>6241</th>\n",
       "      <td>@ruthiepang @CoCoHealth Hi @Ruthiepang, people currently eligible for appointments in Contra Costa include:•Anyone who is 50 or older and lives or works in the county•Anyone who is 16 or older and has a high-risk health condition, disability or illness and lives or works in the county &amp;</td>\n",
       "      <td>D</td>\n",
       "      <td>287</td>\n",
       "      <td>ruthiepang  CoCoHealth Hi  Ruthiepang  people currently eligible for appointments in Contra Costa include  Anyone who is    or older and lives or works in the county Anyone who is    or older and has a high risk health condition  disability or illness and lives or works in the county</td>\n",
       "      <td>0</td>\n",
       "      <td>285</td>\n",
       "    </tr>\n",
       "    <tr>\n",
       "      <th>6997</th>\n",
       "      <td>@luke_mo_ Most of the children were with people that were not relatives. They were being smuggled for forced sex, labor, and other despicable things. There is human trafficking in/thru Arkansas, and more specifically, Northeast AR. They are coming from many Central American countries.</td>\n",
       "      <td>R</td>\n",
       "      <td>285</td>\n",
       "      <td>luke mo  Most of the children were with people that were not relatives  They were being smuggled for forced sex  labor  and other despicable things  There is human trafficking in thru Arkansas  and more specifically  Northeast AR  They are coming from many Central American countries</td>\n",
       "      <td>1</td>\n",
       "      <td>285</td>\n",
       "    </tr>\n",
       "    <tr>\n",
       "      <th>15034</th>\n",
       "      <td>Today, @HouseDemocrats conducted official business without a quorum- the minimum # of members required. That's unconstitutional. That's why @HouseGOP, @FreedomCaucus led a lawsuit against proxy voting. We won't stop fighting @speakerpelosi &amp; Dems eroding the Constitution &amp; rules.</td>\n",
       "      <td>R</td>\n",
       "      <td>280</td>\n",
       "      <td>Today   HouseDemocrats conducted official business without a quorum  the minimum   of members required  That is unconstitutional  That is why  HouseGOP   FreedomCaucus led a lawsuit against proxy voting  We will not stop fighting  speakerpelosi   Dems eroding the Constitution   rules</td>\n",
       "      <td>1</td>\n",
       "      <td>285</td>\n",
       "    </tr>\n",
       "    <tr>\n",
       "      <th>15074</th>\n",
       "      <td>@dr_sheffield More lies from the most liberal Republican in Texas.  Empower isn’t in this race.  Total dollars they’ve donated to me in last 5 yrs?  Zero!  Stop pointing to them as some bodice man trying to distract voters from yer collaboration with the socialists for the last 7 yrs.</td>\n",
       "      <td>R</td>\n",
       "      <td>285</td>\n",
       "      <td>dr sheffield More lies from the most liberal Republican in Texas   Empower isn t in this race   Total dollars they ve donated to me in last   yrs   Zero   Stop pointing to them as some bodice man trying to distract voters from yer collaboration with the socialists for the last   yrs</td>\n",
       "      <td>1</td>\n",
       "      <td>285</td>\n",
       "    </tr>\n",
       "    <tr>\n",
       "      <th>19650</th>\n",
       "      <td>As Chairman of @SVACDems, I'm committed to ensuring we're living up to the promises we've made to our veterans. Today—and everyday—we honor the service and sacrifices of Vietnam vets across our nation, and reaffirm our commitment to ensuring they receive the care they've earned. &lt;webLink&gt;</td>\n",
       "      <td>D</td>\n",
       "      <td>289</td>\n",
       "      <td>As Chairman of  SVACDems  I am committed to ensuring we are living up to the promises we have made to our veterans  Today and everyday we honor the service and sacrifices of Vietnam vets across our nation  and reaffirm our commitment to ensuring they receive the care they have earned</td>\n",
       "      <td>0</td>\n",
       "      <td>285</td>\n",
       "    </tr>\n",
       "  </tbody>\n",
       "</table>\n",
       "</div>"
      ],
      "text/plain": [
       "                                                                                                                                                                                                                                                                                                   tweet  \\\n",
       "3676   We've all gone through a lot in the past year. From one neighbor lost to now over 23k. We've seen families stretched, businesses close, and communities feel the pain. I voted for this bill because your government should be doing everything to help; it's why I voted to deliver it.            \n",
       "5882   @dr_sheffield And finally, question for ya...are the 70% of the HD 59 folks that went to the polls and voted to fire you in Mar all ET clones?  Has NOTHING to do with ET & everything to do with yer awful liberal voting record & disdain/arrogance you’ve shown for your own constituents.       \n",
       "6241   @ruthiepang @CoCoHealth Hi @Ruthiepang, people currently eligible for appointments in Contra Costa include:•Anyone who is 50 or older and lives or works in the county•Anyone who is 16 or older and has a high-risk health condition, disability or illness and lives or works in the county &     \n",
       "6997   @luke_mo_ Most of the children were with people that were not relatives. They were being smuggled for forced sex, labor, and other despicable things. There is human trafficking in/thru Arkansas, and more specifically, Northeast AR. They are coming from many Central American countries.       \n",
       "15034  Today, @HouseDemocrats conducted official business without a quorum- the minimum # of members required. That's unconstitutional. That's why @HouseGOP, @FreedomCaucus led a lawsuit against proxy voting. We won't stop fighting @speakerpelosi & Dems eroding the Constitution & rules.            \n",
       "15074  @dr_sheffield More lies from the most liberal Republican in Texas.  Empower isn’t in this race.  Total dollars they’ve donated to me in last 5 yrs?  Zero!  Stop pointing to them as some bodice man trying to distract voters from yer collaboration with the socialists for the last 7 yrs.       \n",
       "19650  As Chairman of @SVACDems, I'm committed to ensuring we're living up to the promises we've made to our veterans. Today—and everyday—we honor the service and sacrifices of Vietnam vets across our nation, and reaffirm our commitment to ensuring they receive the care they've earned. <webLink>   \n",
       "\n",
       "      party  length  \\\n",
       "3676   D     280      \n",
       "5882   R     285      \n",
       "6241   D     287      \n",
       "6997   R     285      \n",
       "15034  R     280      \n",
       "15074  R     285      \n",
       "19650  D     289      \n",
       "\n",
       "                                                                                                                                                                                                                                                                                       cleaned_tweet  \\\n",
       "3676   We have all gone through a lot in the past year  From one neighbor lost to now over   k  We have seen families stretched  businesses close  and communities feel the pain  I voted for this bill because your government should be doing everything to help  it is why I voted to deliver it    \n",
       "5882    dr sheffield And finally  question for ya   are the     of the HD    folks that went to the polls and voted to fire you in Mar all ET clones   Has NOTHING to do with ET   everything to do with yer awful liberal voting record   disdain arrogance you ve shown for your own constituents    \n",
       "6241    ruthiepang  CoCoHealth Hi  Ruthiepang  people currently eligible for appointments in Contra Costa include  Anyone who is    or older and lives or works in the county Anyone who is    or older and has a high risk health condition  disability or illness and lives or works in the county   \n",
       "6997    luke mo  Most of the children were with people that were not relatives  They were being smuggled for forced sex  labor  and other despicable things  There is human trafficking in thru Arkansas  and more specifically  Northeast AR  They are coming from many Central American countries    \n",
       "15034  Today   HouseDemocrats conducted official business without a quorum  the minimum   of members required  That is unconstitutional  That is why  HouseGOP   FreedomCaucus led a lawsuit against proxy voting  We will not stop fighting  speakerpelosi   Dems eroding the Constitution   rules    \n",
       "15074   dr sheffield More lies from the most liberal Republican in Texas   Empower isn t in this race   Total dollars they ve donated to me in last   yrs   Zero   Stop pointing to them as some bodice man trying to distract voters from yer collaboration with the socialists for the last   yrs    \n",
       "19650  As Chairman of  SVACDems  I am committed to ensuring we are living up to the promises we have made to our veterans  Today and everyday we honor the service and sacrifices of Vietnam vets across our nation  and reaffirm our commitment to ensuring they receive the care they have earned    \n",
       "\n",
       "       numeric_party  clean_length  \n",
       "3676   0              285           \n",
       "5882   1              285           \n",
       "6241   0              285           \n",
       "6997   1              285           \n",
       "15034  1              285           \n",
       "15074  1              285           \n",
       "19650  0              285           "
      ]
     },
     "execution_count": 80,
     "metadata": {},
     "output_type": "execute_result"
    }
   ],
   "source": [
    "data.query('clean_length == 285')\n",
    "#data.shape, display(data.head())"
   ]
  },
  {
   "cell_type": "markdown",
   "metadata": {},
   "source": [
    "Some of these tweets still go passed the charecter limit after cleaning them up. This time it's becuase the ``decontracted(phrase)`` function expands some words. Above you can see how this tweet was 280 before cleaning, but decontracting lead to a net gain in 5 characters."
   ]
  },
  {
   "cell_type": "markdown",
   "metadata": {
    "id": "ka-iXvoP0kEh"
   },
   "source": [
    "**Vectorizing The Data**"
   ]
  },
  {
   "cell_type": "markdown",
   "metadata": {
    "id": "KnP1QP7H0L_K"
   },
   "source": [
    "Below is the set of stopwords that will be ignored by the count vectorizer. "
   ]
  },
  {
   "cell_type": "code",
   "execution_count": 81,
   "metadata": {
    "id": "R5JMmIsQ0G3_"
   },
   "outputs": [],
   "source": [
    "stopwords= set(['br', 'the', 'i', 'me', 'my', 'myself', 'we', 'our', 'ours', 'ourselves', 'you', \"you're\", \"you've\",\\\n",
    "            \"you'll\", \"you'd\", 'your', 'yours', 'yourself', 'yourselves', 'he', 'him', 'his', 'himself', \\\n",
    "            'she', \"she's\", 'her', 'hers', 'herself', 'it', \"it's\", 'its', 'itself', 'they', 'them', 'their',\\\n",
    "            'theirs', 'themselves', 'what', 'which', 'who', 'whom', 'this', 'that', \"that'll\", 'these', 'those', \\\n",
    "            'am', 'is', 'are', 'was', 'were', 'be', 'been', 'being', 'have', 'has', 'had', 'having', 'do', 'does', \\\n",
    "            'did', 'doing', 'a', 'an', 'the', 'and', 'but', 'if', 'or', 'because', 'as', 'until', 'while', 'of', \\\n",
    "            'at', 'by', 'for', 'with', 'about', 'against', 'between', 'into', 'through', 'during', 'before', 'after',\\\n",
    "            'above', 'below', 'to', 'from', 'up', 'down', 'in', 'out', 'on', 'off', 'over', 'under', 'again', 'further',\\\n",
    "            'then', 'once', 'here', 'there', 'when', 'where', 'why', 'how', 'all', 'any', 'both', 'each', 'few', 'more',\\\n",
    "            'most', 'other', 'some', 'such', 'only', 'own', 'same', 'so', 'than', 'too', 'very', \\\n",
    "            's', 't', 'can', 'will', 'just', 'don', \"don't\", 'should', \"should've\", 'now', 'd', 'll', 'm', 'o', 're', \\\n",
    "            've', 'y', 'ain', 'aren', \"aren't\", 'couldn', \"couldn't\", 'didn', \"didn't\", 'doesn', \"doesn't\", 'hadn',\\\n",
    "            \"hadn't\", 'hasn', \"hasn't\", 'haven', \"haven't\", 'isn', \"isn't\", 'ma', 'mightn', \"mightn't\", 'mustn',\\\n",
    "            \"mustn't\", 'needn', \"needn't\", 'shan', \"shan't\", 'shouldn', \"shouldn't\", 'wasn', \"wasn't\", 'weren', \"weren't\", \\\n",
    "            'won', \"won't\", 'wouldn', \"wouldn't\",\"no\",\"nor\",\"not\"])"
   ]
  },
  {
   "cell_type": "code",
   "execution_count": 82,
   "metadata": {
    "colab": {
     "base_uri": "https://localhost:8080/"
    },
    "id": "kkV_bKYi0a4v",
    "outputId": "55418d1d-a523-4fe5-d637-2035823984f3"
   },
   "outputs": [
    {
     "name": "stdout",
     "output_type": "stream",
     "text": [
      "Vector Shape:\t\t (21171, 251318)\n",
      "Party Label Shape:\t (21171,)\n"
     ]
    }
   ],
   "source": [
    "vectorizer = CountVectorizer(lowercase=True,stop_words=stopwords,max_df=0.6,min_df=1,ngram_range=(1,2))\n",
    "#convert the celaned tweets into vectors, store them in X. Party labels stored in Y\n",
    "X = vectorizer.fit_transform(data['cleaned_tweet'])\n",
    "Y = data['numeric_party']\n",
    "#print(X.toarray()[0])\n",
    "print(\"Vector Shape:\\t\\t\", X.shape)\n",
    "print(\"Party Label Shape:\\t\", Y.shape)"
   ]
  },
  {
   "cell_type": "markdown",
   "metadata": {
    "id": "pdz9mA8008se"
   },
   "source": [
    "**Train Test Split** \n",
    "\n",
    "Here I used an 80% training and 20% testing split to partition the data. "
   ]
  },
  {
   "cell_type": "code",
   "execution_count": 83,
   "metadata": {
    "colab": {
     "base_uri": "https://localhost:8080/"
    },
    "id": "oHyDKPjJ0hMr",
    "outputId": "6caa213d-970e-4794-8dfa-7b63a58945d5"
   },
   "outputs": [
    {
     "name": "stdout",
     "output_type": "stream",
     "text": [
      "Number of training examples:\t 15878\n",
      "Number of testing examples:\t 5293\n",
      "\n",
      "Training data:\n",
      "X: (15878, 251318), Y: (15878,)\n",
      "\n",
      "Testing data:\n",
      "X: (5293, 251318), Y: (5293,)\n"
     ]
    }
   ],
   "source": [
    "train_idx, test_idx = train_test_split(np.arange(data.shape[0]), test_size=0.25, shuffle=True, random_state=42)\n",
    "\n",
    "#show split\n",
    "print(\"Number of training examples:\\t\", len(train_idx))\n",
    "print(\"Number of testing examples:\\t\", len(test_idx))\n",
    "\n",
    "#train/test split the data\n",
    "X_train = X[train_idx]\n",
    "Y_train = Y[train_idx]\n",
    "X_test = X[test_idx]\n",
    "Y_test = Y[test_idx]\n",
    "\n",
    "#show shape of each partition\n",
    "print(\"\\nTraining data:\\nX: {}, Y: {}\".format(X_train.shape,Y_train.shape))\n",
    "print(\"\\nTesting data:\\nX: {}, Y: {}\".format(X_test.shape,Y_test.shape))"
   ]
  },
  {
   "cell_type": "markdown",
   "metadata": {
    "id": "9SUds50j1teQ"
   },
   "source": [
    "**Fitting the Logistic Regreassion**"
   ]
  },
  {
   "cell_type": "code",
   "execution_count": 84,
   "metadata": {
    "id": "c-AdIkA21sbx"
   },
   "outputs": [],
   "source": [
    "#fit the logistic regression\n",
    "lr_clf = LogisticRegression(max_iter=1000,solver='lbfgs',penalty='l2')\n",
    "lr_clf.fit(X_train, Y_train)\n",
    "y_pred_test = lr_clf.predict(X_test)\n",
    "y_predprob_test = lr_clf.predict_proba(X_test)"
   ]
  },
  {
   "cell_type": "markdown",
   "metadata": {
    "id": "9FG6OHOB2E0M"
   },
   "source": [
    "**Evaluating Performance**\n",
    "\n",
    "First looking at the classification report for logistic regression"
   ]
  },
  {
   "cell_type": "code",
   "execution_count": 86,
   "metadata": {
    "colab": {
     "base_uri": "https://localhost:8080/"
    },
    "id": "bt5FZ72F2IQ4",
    "outputId": "6724b1ff-f09b-44e3-f334-83fb0f38c64b"
   },
   "outputs": [
    {
     "name": "stdout",
     "output_type": "stream",
     "text": [
      "Classification Report:\n",
      "               precision    recall  f1-score   support\n",
      "\n",
      "           0       0.84      0.80      0.82      2804\n",
      "           1       0.79      0.83      0.81      2489\n",
      "\n",
      "    accuracy                           0.81      5293\n",
      "   macro avg       0.81      0.81      0.81      5293\n",
      "weighted avg       0.81      0.81      0.81      5293\n",
      "\n",
      "Cross Validation Score:\n",
      " [0.81239176 0.81959565 0.819151   0.81365135]\n"
     ]
    }
   ],
   "source": [
    "#check out how well the model performed\n",
    "print(\"Classification Report:\\n\", classification_report(Y_test, y_pred_test))\n",
    "scores = cross_val_score(lr_clf, X, Y, cv=4, scoring='f1')\n",
    "print(\"Cross Validation Score:\\n\",scores)"
   ]
  },
  {
   "cell_type": "markdown",
   "metadata": {
    "id": "jE_NJmdH2gQj"
   },
   "source": [
    "Now the ROC curve\n",
    "\n",
    "Note that republicans were chosen as the \"positive\" label. This was an arbitrary decision following the labels 0 and 1 for D and R.  "
   ]
  },
  {
   "cell_type": "code",
   "execution_count": 88,
   "metadata": {
    "colab": {
     "base_uri": "https://localhost:8080/",
     "height": 295
    },
    "id": "fHeykdpG2j1c",
    "outputId": "f7c90379-c88b-44d5-eb12-99cd34834ac5"
   },
   "outputs": [
    {
     "data": {
      "image/png": "[encoded data removed]",
      "text/plain": [
       "<Figure size 432x288 with 1 Axes>"
      ]
     },
     "metadata": {
      "needs_background": "light"
     },
     "output_type": "display_data"
    }
   ],
   "source": [
    "fpr, tpr, thresholds = roc_curve(y_true = Y_test, y_score = y_predprob_test[:,1], pos_label=1)\n",
    "roc_auc = auc(fpr, tpr) # area under ROC curve\n",
    "\n",
    "plt.figure()\n",
    "lw = 2\n",
    "plt.plot(fpr, tpr, color='darkorange', lw=lw, label='ROC curve (area = %0.2f)' % roc_auc)\n",
    "plt.plot([0, 1], [0, 1], color='navy', lw=lw, linestyle='--')\n",
    "plt.xlim([0.0, 1.0])\n",
    "plt.ylim([0.0, 1.05])\n",
    "plt.xlabel('False Republican Rate')\n",
    "plt.ylabel('True Republican Rate')\n",
    "plt.title('ROC curve for logistic regression')\n",
    "plt.legend(loc=\"lower right\")\n",
    "plt.show()"
   ]
  },
  {
   "cell_type": "markdown",
   "metadata": {
    "id": "Esy8ceP2d1xT"
   },
   "source": [
    "**Parameter Tuning with Grid Search**"
   ]
  },
  {
   "cell_type": "code",
   "execution_count": 55,
   "metadata": {
    "id": "R7G00oAId1AF"
   },
   "outputs": [
    {
     "name": "stdout",
     "output_type": "stream",
     "text": [
      "Best parameter (CV score = 0.788):\n",
      "{'classifier__penalty': 'l2', 'vectorizer__max_df': 0.6, 'vectorizer__min_df': 1, 'vectorizer__ngram_range': (1, 2)}\n"
     ]
    }
   ],
   "source": [
    "vectorizer = CountVectorizer(lowercase=True,stop_words=stopwords)\n",
    "logistic = LogisticRegression(max_iter=1000,solver='lbfgs')\n",
    "\n",
    "#build a pipeline\n",
    "pipe = Pipeline(steps = [('vectorizer',vectorizer),\n",
    "                         ('classifier',logistic)])\n",
    "\n",
    "#dictionary for model params and corresponding values\n",
    "param_grid = {\n",
    "    'vectorizer__min_df':[1,2,3],\n",
    "    'vectorizer__max_df':[0.6,0.7,0.8],\n",
    "    'vectorizer__ngram_range':[(1,1),(1,2),(2,2),(1,3)],\n",
    "    'classifier__penalty':['none','l2']\n",
    "}\n",
    "\n",
    "search_result = GridSearchCV(pipe,param_grid,cv=4,scoring='f1',n_jobs=6).fit(data.cleaned_tweet.values, data.numeric_party.values)\n",
    "\n",
    "print(\"Best parameter (CV score = %0.3f):\" % search_result.best_score_)\n",
    "print(search_result.best_params_)"
   ]
  },
  {
   "cell_type": "markdown",
   "metadata": {
    "id": "XRvu2X0h8cRj"
   },
   "source": [
    "Top features for each party"
   ]
  },
  {
   "cell_type": "code",
   "execution_count": 91,
   "metadata": {
    "colab": {
     "base_uri": "https://localhost:8080/"
    },
    "id": "I3m1Z2vi5Eok",
    "outputId": "556b219a-02c1-4586-f6b6-b5a881c42387"
   },
   "outputs": [
    {
     "name": "stdout",
     "output_type": "stream",
     "text": [
      "\n",
      "Top party 1 features:\n",
      "('bidenbordercrisis', 2.2)\n",
      "('realdonaldtrump', 2.105)\n",
      "('democrats', 1.816)\n",
      "('border', 1.741)\n",
      "('china', 1.671)\n",
      "('oklahoma', 1.455)\n",
      "('ccp', 1.419)\n",
      "('idaho', 1.334)\n",
      "('get vote', 1.327)\n",
      "('partisan', 1.305)\n",
      "('spending', 1.304)\n",
      "('utpol', 1.297)\n",
      "('ohio', 1.295)\n",
      "('god', 1.289)\n",
      "('pelosi', 1.283)\n",
      "\n",
      "Top party 0 features:\n",
      "('americanrescueplan', -3.419)\n",
      "('stopasianhate', -2.069)\n",
      "('az', -1.681)\n",
      "('democracy', -1.606)\n",
      "('buildbackbetter', -1.599)\n",
      "('guam', -1.456)\n",
      "('msnbc', -1.453)\n",
      "('forthepeople', -1.353)\n",
      "('dcstatehood', -1.346)\n",
      "('black', -1.337)\n",
      "('american rescue', -1.33)\n",
      "('transgender', -1.302)\n",
      "('rescue plan', -1.295)\n",
      "('chair', -1.289)\n",
      "('sameach happy', -1.213)\n"
     ]
    }
   ],
   "source": [
    "feature_to_coef = {word: float(\"%.3f\" % coef) for word, coef in zip(vectorizer.get_feature_names(), lr_clf.coef_[0])}\n",
    "\n",
    "print(\"\\nTop party 0 features:\")\n",
    "for item in (sorted(feature_to_coef.items(), key=lambda x: x[1], reverse=False)[:15]):\n",
    "    print(item)\n",
    "    \n",
    "print(\"\\nTop party 1 features:\")\n",
    "for item in (sorted(feature_to_coef.items(), key=lambda x: x[1], reverse=True)[:15]):\n",
    "    print(item)"
   ]
  },
  {
   "cell_type": "markdown",
   "metadata": {},
   "source": [
    "**Fitting the Naive Bayes**"
   ]
  },
  {
   "cell_type": "code",
   "execution_count": 85,
   "metadata": {},
   "outputs": [],
   "source": [
    "from sklearn.naive_bayes import BernoulliNB\n",
    "nb_clf = BernoulliNB()\n",
    "nb_clf.fit(X_train,Y_train)\n",
    "nb_y_pred_test = nb_clf.predict(X_test)\n",
    "nb_y_predprob = nb_clf.predict_proba(X_test)"
   ]
  },
  {
   "cell_type": "markdown",
   "metadata": {},
   "source": [
    "classification report for naive bayes"
   ]
  },
  {
   "cell_type": "code",
   "execution_count": 87,
   "metadata": {},
   "outputs": [
    {
     "name": "stdout",
     "output_type": "stream",
     "text": [
      "Classification Report:\n",
      "               precision    recall  f1-score   support\n",
      "\n",
      "           0       0.85      0.83      0.84      2804\n",
      "           1       0.81      0.83      0.82      2489\n",
      "\n",
      "    accuracy                           0.83      5293\n",
      "   macro avg       0.83      0.83      0.83      5293\n",
      "weighted avg       0.83      0.83      0.83      5293\n",
      "\n",
      "Cross Validation Score:\n",
      " [0.82071248 0.82850955 0.82343658 0.8171451 ]\n"
     ]
    }
   ],
   "source": [
    "#check out how well the model performed\n",
    "print(\"Classification Report:\\n\", classification_report(Y_test, nb_y_pred_test))\n",
    "scores = cross_val_score(nb_clf, X, Y, cv=4, scoring='f1')\n",
    "print(\"Cross Validation Score:\\n\",scores)"
   ]
  },
  {
   "cell_type": "code",
   "execution_count": 89,
   "metadata": {},
   "outputs": [
    {
     "data": {
      "image/png": "[encoded data removed]",
      "text/plain": [
       "<Figure size 432x288 with 1 Axes>"
      ]
     },
     "metadata": {
      "needs_background": "light"
     },
     "output_type": "display_data"
    }
   ],
   "source": [
    "fpr, tpr, thresholds = roc_curve(y_true = Y_test, y_score = nb_y_predprob[:,1], pos_label=1)\n",
    "roc_auc = auc(fpr, tpr) # area under ROC curve\n",
    "\n",
    "plt.figure()\n",
    "lw = 2\n",
    "plt.plot(fpr, tpr, color='darkorange', lw=lw, label='ROC curve (area = %0.2f)' % roc_auc)\n",
    "plt.plot([0, 1], [0, 1], color='navy', lw=lw, linestyle='--')\n",
    "plt.xlim([0.0, 1.0])\n",
    "plt.ylim([0.0, 1.05])\n",
    "plt.xlabel('False Republican Rate')\n",
    "plt.ylabel('True Republican Rate')\n",
    "plt.title('ROC curve for naive bayes')\n",
    "plt.legend(loc=\"lower right\")\n",
    "plt.show()"
   ]
  },
  {
   "cell_type": "code",
   "execution_count": 98,
   "metadata": {},
   "outputs": [
    {
     "name": "stdout",
     "output_type": "stream",
     "text": [
      "\n",
      "Top party 0 features:\n",
      "('today', -1.956)\n",
      "('covid', -2.248)\n",
      "('act', -2.419)\n",
      "('help', -2.435)\n",
      "('american', -2.437)\n",
      "('must', -2.514)\n",
      "('get', -2.522)\n",
      "('work', -2.578)\n",
      "('community', -2.642)\n",
      "('need', -2.7)\n",
      "('us', -2.709)\n",
      "('people', -2.72)\n",
      "('pandemic', -2.741)\n",
      "('health', -2.747)\n",
      "('americans', -2.8)\n",
      "\n",
      "Top party 1 features:\n",
      "('biden', -2.173)\n",
      "('today', -2.252)\n",
      "('border', -2.288)\n",
      "('covid', -2.526)\n",
      "('crisis', -2.718)\n",
      "('president', -2.762)\n",
      "('great', -2.821)\n",
      "('bill', -2.839)\n",
      "('thank', -2.843)\n",
      "('american', -2.941)\n",
      "('day', -2.964)\n",
      "('people', -2.964)\n",
      "('us', -2.981)\n",
      "('work', -3.002)\n",
      "('state', -3.005)\n"
     ]
    }
   ],
   "source": [
    "nb_feature_to_coef = {word: float(\"%.3f\" % coef) for word, coef in zip(vectorizer.get_feature_names(), nb_clf.feature_log_prob_[0,:])}\n",
    "\n",
    "print(\"\\nTop party 0 features:\")\n",
    "for item in (sorted(nb_feature_to_coef.items(), key=lambda x: x[1], reverse=True)[:15]):\n",
    "    print(item)\n",
    "    \n",
    "nb_feature_to_coef = {word: float(\"%.3f\" % coef) for word, coef in zip(vectorizer.get_feature_names(), nb_clf.feature_log_prob_[1,:])}\n",
    "\n",
    "print(\"\\nTop party 1 features:\")\n",
    "for item in (sorted(nb_feature_to_coef.items(), key=lambda x: x[1], reverse=True)[:15]):\n",
    "    print(item)\n",
    "    "
   ]
  },
  {
   "cell_type": "code",
   "execution_count": null,
   "metadata": {},
   "outputs": [],
   "source": []
  }
 ],
 "metadata": {
  "colab": {
   "collapsed_sections": [],
   "name": "cs481Project.ipynb",
   "provenance": []
  },
  "kernelspec": {
   "display_name": "Python 3",
   "language": "python",
   "name": "python3"
  },
  "language_info": {
   "codemirror_mode": {
    "name": "ipython",
    "version": 3
   },
   "file_extension": ".py",
   "mimetype": "text/x-python",
   "name": "python",
   "nbconvert_exporter": "python",
   "pygments_lexer": "ipython3",
   "version": "3.7.3"
  }
 },
 "nbformat": 4,
 "nbformat_minor": 1
}
